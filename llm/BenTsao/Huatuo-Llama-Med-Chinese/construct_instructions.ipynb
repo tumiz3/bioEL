{
 "cells": [
  {
   "cell_type": "markdown",
   "metadata": {},
   "source": [
    "### 首先对数据进行处理，将train.test.dev文件中的kb_id转为实体名"
   ]
  },
  {
   "cell_type": "code",
   "execution_count": 3,
   "metadata": {},
   "outputs": [
    {
     "name": "stdout",
     "output_type": "stream",
     "text": [
      "{'text': '[E1]单侧腹股沟疝[/E1]', 'mention_data': {'mention': '单侧腹股沟疝', 'kb_id': 'K40.900x002', 'candidates': ['K40.900x002', 'K40.200x001', 'K40.900x004', 'K40.202', 'K40.900x011', 'K40.200'], 'labels': [1, 0, 0, 0, 0, 0]}}\n",
      "\n",
      "{'text': '左眼视物不清8月患者自述8月前无明显诱因出现左眼视物不清，不伴眼红、眼胀、眼痛，无畏光、流泪，偶有视物变形，视物变暗等不适，未治疗，期间自觉症状逐渐加重，影响生活，今就诊于我院，门诊以“”收入院。发病以来患者精神，饮食，睡眠及大小便均正常。高血压20余年，硝苯地平缓释片（Ⅱ）20mg 1次/早，酒石酸美托洛尔片 25mg 2次/日，复方丹参滴丸 10粒 2次日；血压监测尚可。血糖偏高8年，未药物治疗，昨日空腹8.2mmol/L。8年前，于“山西大医院”行[E1]心脏冠脉造影[/E1]，药物治疗。否认肝炎、结核相关传染病史，30年前，因“左侧乳腺结节”行手术治疗。40余年前，因“产后出血”输全血300cc，无输血反应。否认外伤史，否认药物及食物过敏史。', 'mention_data': {'mention': '心脏冠脉造影', 'kb_id': 'Z98.800x403', 'candidates': ['Z09.801', 'Z98.800x403', 'T81.700x407', 'I25.901', 'T81.700x306', 'I25.800x012'], 'labels': [0, 1, 0, 0, 0, 0]}}\n",
      "{'text': '左眼视物不清1月余患者自述1月余一天肚子发热，连续喝冷汽水10天后出现左眼突然视物模糊，不伴眼红、眼胀、眼痛，无畏光、流泪，无虹视、视物变形等不适，期间自觉症状逐渐加重，影响生活，9月2日去山西省眼科医院就诊，诊断：左眼糖尿病性视网膜病变、视网膜前膜、视盘前膜，建议手术治疗。2021-09-06来我院就诊，建议左眼抗VEGF治疗后行玻璃体切除术，于2021-09-09在我院门诊行左眼玻璃体药物注射术（雷珠单抗注射液0.05ml）。今为手术来我院，门诊以“”收入院。发病以来患者精神，饮食，睡眠及大小便均正常。糖尿病病史28年，口服盐酸二甲双胍片0.5g，3次/日，三餐前注射门冬胰岛素注射液各10iu，睡前注射甘精胰岛素注射液15iu.曾行背部粉渣瘤切除术，具体不详。2021-08-17-2021-09-01在山西省人民医院内分泌科住院调节血糖，出院诊断：2型糖尿病性肾病Ⅳ期、2型糖尿病性视网膜病变Ⅱ期、慢性胆囊炎伴发胆囊多发结石、2型糖尿病性周围神经病、2型糖尿病性周围血管病变、双眼白内障、高脂血症、脂肪肝、左肾积水、前列腺体积增大、高血压2级（极高危）、左肺上叶肺炎、[E1]双肺多发小结节否[/E1]认肝炎、结核相关传染病史，否认外伤史，否认心脏病史，否认输血史，否认药物及食物过敏史。', 'mention_data': {'mention': '双肺多发小结节否', 'kb_id': 'D86.000', 'candidates': ['D86.000', 'A16.200x007', 'A16.102', 'A15.000x003', 'A15.304', 'A16.202'], 'labels': [1, 0, 0, 0, 0, 0]}}\n"
     ]
    }
   ],
   "source": [
    "import json\n",
    "with open(\"./data/aier_data/initial_data/entity_kb.json\") as f:\n",
    "    entityKb=json.load(f)\n",
    "with open(\"./data/aier_data/initial_data/train.json\") as f:\n",
    "    trainData=[json.loads(line) for line in f]\n",
    "with open(\"./data/aier_data/initial_data/dev.json\") as f:\n",
    "    devData=[json.loads(line) for line in f]\n",
    "with open(\"./data/aier_data/initial_data/test.json\") as f:\n",
    "    testData=[json.loads(line) for line in f]\n",
    "print(trainData[0])\n",
    "print()\n",
    "print(devData[0])\n",
    "print(testData[0])"
   ]
  },
  {
   "cell_type": "code",
   "execution_count": 4,
   "metadata": {},
   "outputs": [],
   "source": [
    "wrongMention={\"废用性斜视\":\"失用性斜视\",\"末端指指软组织损伤\":\"手指挫伤\",\"子宫腺肌症\":\"子宫腺肌症\",\"糖尿病性视网膜病变（右眼Ⅵ期）\":\"糖尿病性增殖性视网膜病\",\"II型糖尿病性视网膜病变\":\"2型糖尿病性视网膜病变\"}"
   ]
  },
  {
   "cell_type": "markdown",
   "metadata": {},
   "source": [
    "###### 标签错误的mention:\n",
    "###### 废用性斜视 失用性斜视  \n",
    "###### 末端指指软组织损伤 手指挫伤 \n",
    "###### 子宫腺肌症 子宫腺肌症  \n",
    "###### 糖尿病性视网膜病变（右眼Ⅵ期）糖尿病性增殖性视网膜病  \n",
    "###### II型糖尿病性视网膜病变 2型糖尿病性视网膜病变"
   ]
  },
  {
   "cell_type": "code",
   "execution_count": 5,
   "metadata": {},
   "outputs": [
    {
     "name": "stdout",
     "output_type": "stream",
     "text": [
      "{'text': '[E1]单侧腹股沟疝[/E1]', 'mention_data': {'mention': '单侧腹股沟疝', 'kb_id': '单侧腹股沟疝', 'candidates': ['单侧腹股沟疝', '双侧腹股沟疝', '单侧腹股沟直疝', '双侧腹股沟直疝', '单侧腹股沟疝，不伴有梗阻或坏疽', '双侧腹股沟疝，不伴有梗阻或坏疽'], 'labels': [1, 0, 0, 0, 0, 0]}}\n",
      "{'text': '左眼视物不清8月患者自述8月前无明显诱因出现左眼视物不清，不伴眼红、眼胀、眼痛，无畏光、流泪，偶有视物变形，视物变暗等不适，未治疗，期间自觉症状逐渐加重，影响生活，今就诊于我院，门诊以“”收入院。发病以来患者精神，饮食，睡眠及大小便均正常。高血压20余年，硝苯地平缓释片（Ⅱ）20mg 1次/早，酒石酸美托洛尔片 25mg 2次/日，复方丹参滴丸 10粒 2次日；血压监测尚可。血糖偏高8年，未药物治疗，昨日空腹8.2mmol/L。8年前，于“山西大医院”行[E1]心脏冠脉造影[/E1]，药物治疗。否认肝炎、结核相关传染病史，30年前，因“左侧乳腺结节”行手术治疗。40余年前，因“产后出血”输全血300cc，无输血反应。否认外伤史，否认药物及食物过敏史。', 'mention_data': {'mention': '心脏冠脉造影', 'kb_id': '冠状动脉造影术后', 'candidates': ['冠状动脉介入治疗后随诊检查', '冠状动脉造影术后', '心导管造影术后冠状动脉穿孔', '冠状动脉性心脏病', '心导管检查术后冠状动脉穿孔', '冠状动脉无再流'], 'labels': [0, 1, 0, 0, 0, 0]}}\n",
      "{'text': '左眼视物不清1月余患者自述1月余一天肚子发热，连续喝冷汽水10天后出现左眼突然视物模糊，不伴眼红、眼胀、眼痛，无畏光、流泪，无虹视、视物变形等不适，期间自觉症状逐渐加重，影响生活，9月2日去山西省眼科医院就诊，诊断：左眼糖尿病性视网膜病变、视网膜前膜、视盘前膜，建议手术治疗。2021-09-06来我院就诊，建议左眼抗VEGF治疗后行玻璃体切除术，于2021-09-09在我院门诊行左眼玻璃体药物注射术（雷珠单抗注射液0.05ml）。今为手术来我院，门诊以“”收入院。发病以来患者精神，饮食，睡眠及大小便均正常。糖尿病病史28年，口服盐酸二甲双胍片0.5g，3次/日，三餐前注射门冬胰岛素注射液各10iu，睡前注射甘精胰岛素注射液15iu.曾行背部粉渣瘤切除术，具体不详。2021-08-17-2021-09-01在山西省人民医院内分泌科住院调节血糖，出院诊断：2型糖尿病性肾病Ⅳ期、2型糖尿病性视网膜病变Ⅱ期、慢性胆囊炎伴发胆囊多发结石、2型糖尿病性周围神经病、2型糖尿病性周围血管病变、双眼白内障、高脂血症、脂肪肝、左肾积水、前列腺体积增大、高血压2级（极高危）、左肺上叶肺炎、[E1]双肺多发小结节否[/E1]认肝炎、结核相关传染病史，否认外伤史，否认心脏病史，否认输血史，否认药物及食物过敏史。', 'mention_data': {'mention': '双肺多发小结节否', 'kb_id': '肺结节病', 'candidates': ['肺结节病', '结节型肺结核', '结核性肺炎，未做细菌学和组织学检查', '肺结核(痰涂片及培养均证实)', '结核性肺炎经证实(+)', '结核性肺炎'], 'labels': [1, 0, 0, 0, 0, 0]}}\n"
     ]
    }
   ],
   "source": [
    "for data in [trainData,devData,testData]:\n",
    "    for sample in data:\n",
    "        mention=sample[\"mention_data\"][\"mention\"]\n",
    "        if mention in wrongMention.keys():\n",
    "            sample[\"mention_data\"][\"kb_id\"]=wrongMention[mention]\n",
    "        else:\n",
    "            sample[\"mention_data\"][\"kb_id\"]=entityKb[sample[\"mention_data\"][\"kb_id\"]][0]\n",
    "        sample[\"mention_data\"][\"candidates\"]=[entityKb[word][0] for word in sample[\"mention_data\"][\"candidates\"]]\n",
    "print(trainData[0])\n",
    "print(devData[0])\n",
    "print(testData[0])"
   ]
  },
  {
   "cell_type": "code",
   "execution_count": 10,
   "metadata": {},
   "outputs": [
    {
     "name": "stdout",
     "output_type": "stream",
     "text": [
      "下列哪一项与“单侧腹股沟疝”含义相同？请在“单侧腹股沟疝，双侧腹股沟疝，单侧腹股沟直疝，双侧腹股沟直疝，单侧腹股沟疝，不伴有梗阻或坏疽，双侧腹股沟疝，不伴有梗阻或坏疽”中选择与“mentino”含义相同的词。\n"
     ]
    }
   ],
   "source": [
    "instruction=\"\"\"下列哪一项与“mention”含义相同？请在“entity”中选择与“mentino”含义相同的词。\"\"\"\n",
    "instruction=instruction.replace(\"mention\",trainData[0][\"mention_data\"][\"mention\"])\n",
    "instruction=instruction.replace(\"entity\",\"，\".join(trainData[0][\"mention_data\"][\"candidates\"]))\n",
    "print(instruction)"
   ]
  },
  {
   "cell_type": "code",
   "execution_count": 11,
   "metadata": {},
   "outputs": [],
   "source": [
    "def construct_instruction(sample):\n",
    "    line={}\n",
    "    manualInstruction=\"\"\"下列哪一项与“mention”含义相同？请在“entity”中选择与“mentino”含义相同的词。\"\"\"\n",
    "    manualInstruction=manualInstruction.replace(\"mention\",sample[\"mention_data\"][\"mention\"])\n",
    "    manualInstruction=manualInstruction.replace(\"entity\",\"，\".join(sample[\"mention_data\"][\"candidates\"]))\n",
    "\n",
    "    line[\"instruction\"]=manualInstruction\n",
    "    line[\"input\"]=\"\"\n",
    "    line[\"output\"]=sample[\"mention_data\"][\"kb_id\"]\n",
    "\n",
    "    return line\n"
   ]
  },
  {
   "cell_type": "code",
   "execution_count": 15,
   "metadata": {},
   "outputs": [],
   "source": [
    "myTrain=[]\n",
    "for sample in trainData:\n",
    "    myTrain.append(construct_instruction(sample))\n",
    "\n",
    "myDev=[]\n",
    "for sample in devData:\n",
    "    myDev.append(construct_instruction(sample))\n",
    "\n",
    "myTest=[]\n",
    "for sample in testData:\n",
    "    myTest.append(construct_instruction(sample))"
   ]
  },
  {
   "cell_type": "code",
   "execution_count": 16,
   "metadata": {},
   "outputs": [
    {
     "name": "stdout",
     "output_type": "stream",
     "text": [
      "{'instruction': '下列哪一项与“双肺多发小结节否”含义相同？请在“肺结节病，结节型肺结核，结核性肺炎，未做细菌学和组织学检查，肺结核(痰涂片及培养均证实)，结核性肺炎经证实(+)，结核性肺炎”中选择与“mentino”含义相同的词。', 'input': '', 'output': '肺结节病'}\n",
      "{'instruction': '下列哪一项与“心脏冠脉造影”含义相同？请在“冠状动脉介入治疗后随诊检查，冠状动脉造影术后，心导管造影术后冠状动脉穿孔，冠状动脉性心脏病，心导管检查术后冠状动脉穿孔，冠状动脉无再流”中选择与“mentino”含义相同的词。', 'input': '', 'output': '冠状动脉造影术后'}\n",
      "{'instruction': '下列哪一项与“单侧腹股沟疝”含义相同？请在“单侧腹股沟疝，双侧腹股沟疝，单侧腹股沟直疝，双侧腹股沟直疝，单侧腹股沟疝，不伴有梗阻或坏疽，双侧腹股沟疝，不伴有梗阻或坏疽”中选择与“mentino”含义相同的词。', 'input': '', 'output': '单侧腹股沟疝'}\n"
     ]
    }
   ],
   "source": [
    "print(myTest[0])\n",
    "print(myDev[0])\n",
    "print(myTrain[0])"
   ]
  },
  {
   "cell_type": "code",
   "execution_count": 17,
   "metadata": {},
   "outputs": [],
   "source": [
    "with open(\"./data/aier_data/instructions/train_instructions.json\",\"w\",encoding=\"utf-8\") as my_test_data_json:\n",
    "    for line in myTrain:\n",
    "        my_test_data_json.write(json.dumps(line,ensure_ascii=False))\n",
    "        my_test_data_json.write(\"\\n\")\n",
    "\n",
    "with open(\"./data/aier_data/instructions/dev_instructions.json\",\"w\",encoding=\"utf-8\") as my_test_data_json:\n",
    "    for line in myDev:\n",
    "        my_test_data_json.write(json.dumps(line,ensure_ascii=False))\n",
    "        my_test_data_json.write(\"\\n\")\n",
    "\n",
    "with open(\"./data/aier_data/instructions/test_instructions.json\",\"w\",encoding=\"utf-8\") as my_test_data_json:\n",
    "    for line in myTest:\n",
    "        my_test_data_json.write(json.dumps(line,ensure_ascii=False))\n",
    "        my_test_data_json.write(\"\\n\")"
   ]
  },
  {
   "cell_type": "code",
   "execution_count": 18,
   "metadata": {},
   "outputs": [],
   "source": [
    "with open(\"./data/aier_data/instructions/all_train_instructions.json\",\"w\",encoding=\"utf-8\") as my_test_data_json:\n",
    "    for line in myTrain:\n",
    "        my_test_data_json.write(json.dumps(line,ensure_ascii=False))\n",
    "        my_test_data_json.write(\"\\n\")\n",
    "    for line in myDev:\n",
    "        my_test_data_json.write(json.dumps(line,ensure_ascii=False))\n",
    "        my_test_data_json.write(\"\\n\")"
   ]
  }
 ],
 "metadata": {
  "kernelspec": {
   "display_name": "BenTsao",
   "language": "python",
   "name": "python3"
  },
  "language_info": {
   "codemirror_mode": {
    "name": "ipython",
    "version": 3
   },
   "file_extension": ".py",
   "mimetype": "text/x-python",
   "name": "python",
   "nbconvert_exporter": "python",
   "pygments_lexer": "ipython3",
   "version": "3.9.18"
  }
 },
 "nbformat": 4,
 "nbformat_minor": 2
}
