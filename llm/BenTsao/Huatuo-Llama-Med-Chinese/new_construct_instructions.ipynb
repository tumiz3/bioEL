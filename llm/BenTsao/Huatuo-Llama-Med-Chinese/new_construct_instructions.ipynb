{
 "cells": [
  {
   "cell_type": "code",
   "execution_count": 1,
   "metadata": {},
   "outputs": [
    {
     "name": "stdout",
     "output_type": "stream",
     "text": [
      "{'text': '[E1]单侧腹股沟疝[/E1]', 'mention_data': {'mention': '单侧腹股沟疝', 'kb_id': 'K40.900x002', 'candidates': ['K40.900x002', 'K40.200x001', 'K40.900x004', 'K40.900x011', 'K40.202', 'K40.200'], 'labels': [1, 0, 0, 0, 0, 0]}}\n",
      "\n",
      "{'text': '左眼视物不清8月患者自述8月前无明显诱因出现左眼视物不清，不伴眼红、眼胀、眼痛，无畏光、流泪，偶有视物变形，视物变暗等不适，未治疗，期间自觉症状逐渐加重，影响生活，今就诊于我院，门诊以“”收入院。发病以来患者精神，饮食，睡眠及大小便均正常。高血压20余年，硝苯地平缓释片（Ⅱ）20mg 1次/早，酒石酸美托洛尔片 25mg 2次/日，复方丹参滴丸 10粒 2次日；血压监测尚可。血糖偏高8年，未药物治疗，昨日空腹8.2mmol/L。8年前，于“山西大医院”行[E1]心脏冠脉造影[/E1]，药物治疗。否认肝炎、结核相关传染病史，30年前，因“左侧乳腺结节”行手术治疗。40余年前，因“产后出血”输全血300cc，无输血反应。否认外伤史，否认药物及食物过敏史。', 'mention_data': {'mention': '心脏冠脉造影', 'kb_id': 'Z98.800x403', 'candidates': ['Z98.800x403', 'Z09.801', 'I25.901', 'I51.900', 'I31.901', 'I25.800x012'], 'labels': [1, 0, 0, 0, 0, 0]}}\n",
      "{'text': '左眼视物不清1月余患者自述1月余一天肚子发热，连续喝冷汽水10天后出现左眼突然视物模糊，不伴眼红、眼胀、眼痛，无畏光、流泪，无虹视、视物变形等不适，期间自觉症状逐渐加重，影响生活，9月2日去山西省眼科医院就诊，诊断：左眼糖尿病性视网膜病变、视网膜前膜、视盘前膜，建议手术治疗。2021-09-06来我院就诊，建议左眼抗VEGF治疗后行玻璃体切除术，于2021-09-09在我院门诊行左眼玻璃体药物注射术（雷珠单抗注射液0.05ml）。今为手术来我院，门诊以“”收入院。发病以来患者精神，饮食，睡眠及大小便均正常。糖尿病病史28年，口服盐酸二甲双胍片0.5g，3次/日，三餐前注射门冬胰岛素注射液各10iu，睡前注射甘精胰岛素注射液15iu.曾行背部粉渣瘤切除术，具体不详。2021-08-17-2021-09-01在山西省人民医院内分泌科住院调节血糖，出院诊断：2型糖尿病性肾病Ⅳ期、2型糖尿病性视网膜病变Ⅱ期、慢性胆囊炎伴发胆囊多发结石、2型糖尿病性周围神经病、2型糖尿病性周围血管病变、双眼白内障、高脂血症、脂肪肝、左肾积水、前列腺体积增大、高血压2级（极高危）、左肺上叶肺炎、[E1]双肺多发小结节否[/E1]认肝炎、结核相关传染病史，否认外伤史，否认心脏病史，否认输血史，否认药物及食物过敏史。', 'mention_data': {'mention': '双肺多发小结节否', 'kb_id': 'D86.000', 'candidates': ['D86.000', 'A16.200x007', 'A15.204', 'A15.000x003', 'A16.102', 'A16.202'], 'labels': [1, 0, 0, 0, 0, 0]}}\n"
     ]
    }
   ],
   "source": [
    "import json\n",
    "with open(\"./data/aier_data/initial_data/entity_kb.json\") as f:\n",
    "    entityKb=json.load(f)\n",
    "with open(\"./data/aier_data/initial_data/train.json\") as f:\n",
    "    trainData=[json.loads(line) for line in f]\n",
    "with open(\"./data/aier_data/initial_data/dev.json\") as f:\n",
    "    devData=[json.loads(line) for line in f]\n",
    "with open(\"./data/aier_data/initial_data/test.json\") as f:\n",
    "    testData=[json.loads(line) for line in f]\n",
    "print(trainData[0])\n",
    "print()\n",
    "print(devData[0])\n",
    "print(testData[0])"
   ]
  },
  {
   "cell_type": "code",
   "execution_count": 2,
   "metadata": {},
   "outputs": [
    {
     "name": "stdout",
     "output_type": "stream",
     "text": [
      "{'text': '[E1]单侧腹股沟疝[/E1]', 'mention_data': {'mention': '单侧腹股沟疝', 'kb_id': '单侧腹股沟疝', 'candidates': ['单侧腹股沟疝', '双侧腹股沟疝', '单侧腹股沟直疝', '单侧腹股沟疝，不伴有梗阻或坏疽', '双侧腹股沟直疝', '双侧腹股沟疝，不伴有梗阻或坏疽'], 'labels': [1, 0, 0, 0, 0, 0]}}\n",
      "{'text': '左眼视物不清8月患者自述8月前无明显诱因出现左眼视物不清，不伴眼红、眼胀、眼痛，无畏光、流泪，偶有视物变形，视物变暗等不适，未治疗，期间自觉症状逐渐加重，影响生活，今就诊于我院，门诊以“”收入院。发病以来患者精神，饮食，睡眠及大小便均正常。高血压20余年，硝苯地平缓释片（Ⅱ）20mg 1次/早，酒石酸美托洛尔片 25mg 2次/日，复方丹参滴丸 10粒 2次日；血压监测尚可。血糖偏高8年，未药物治疗，昨日空腹8.2mmol/L。8年前，于“山西大医院”行[E1]心脏冠脉造影[/E1]，药物治疗。否认肝炎、结核相关传染病史，30年前，因“左侧乳腺结节”行手术治疗。40余年前，因“产后出血”输全血300cc，无输血反应。否认外伤史，否认药物及食物过敏史。', 'mention_data': {'mention': '心脏冠脉造影', 'kb_id': '冠状动脉造影术后', 'candidates': ['冠状动脉造影术后', '冠状动脉介入治疗后随诊检查', '冠状动脉性心脏病', '心脏病', '心脏压塞', '冠状动脉无再流'], 'labels': [1, 0, 0, 0, 0, 0]}}\n",
      "{'text': '左眼视物不清1月余患者自述1月余一天肚子发热，连续喝冷汽水10天后出现左眼突然视物模糊，不伴眼红、眼胀、眼痛，无畏光、流泪，无虹视、视物变形等不适，期间自觉症状逐渐加重，影响生活，9月2日去山西省眼科医院就诊，诊断：左眼糖尿病性视网膜病变、视网膜前膜、视盘前膜，建议手术治疗。2021-09-06来我院就诊，建议左眼抗VEGF治疗后行玻璃体切除术，于2021-09-09在我院门诊行左眼玻璃体药物注射术（雷珠单抗注射液0.05ml）。今为手术来我院，门诊以“”收入院。发病以来患者精神，饮食，睡眠及大小便均正常。糖尿病病史28年，口服盐酸二甲双胍片0.5g，3次/日，三餐前注射门冬胰岛素注射液各10iu，睡前注射甘精胰岛素注射液15iu.曾行背部粉渣瘤切除术，具体不详。2021-08-17-2021-09-01在山西省人民医院内分泌科住院调节血糖，出院诊断：2型糖尿病性肾病Ⅳ期、2型糖尿病性视网膜病变Ⅱ期、慢性胆囊炎伴发胆囊多发结石、2型糖尿病性周围神经病、2型糖尿病性周围血管病变、双眼白内障、高脂血症、脂肪肝、左肾积水、前列腺体积增大、高血压2级（极高危）、左肺上叶肺炎、[E1]双肺多发小结节否[/E1]认肝炎、结核相关传染病史，否认外伤史，否认心脏病史，否认输血史，否认药物及食物过敏史。', 'mention_data': {'mention': '双肺多发小结节否', 'kb_id': '肺结节病', 'candidates': ['肺结节病', '结节型肺结核', '结核性肺炎，病理(+)', '肺结核(痰涂片及培养均证实)', '结核性肺炎，未做细菌学和组织学检查', '结核性肺炎'], 'labels': [1, 0, 0, 0, 0, 0]}}\n"
     ]
    }
   ],
   "source": [
    "for data in [trainData,devData,testData]:\n",
    "    for sample in data:\n",
    "        mention=sample[\"mention_data\"][\"mention\"]       \n",
    "        sample[\"mention_data\"][\"kb_id\"]=entityKb[sample[\"mention_data\"][\"kb_id\"]][0]\n",
    "        sample[\"mention_data\"][\"candidates\"]=[entityKb[word][0] for word in sample[\"mention_data\"][\"candidates\"]]\n",
    "print(trainData[0])\n",
    "print(devData[0])\n",
    "print(testData[0])"
   ]
  },
  {
   "cell_type": "code",
   "execution_count": 3,
   "metadata": {},
   "outputs": [],
   "source": [
    "trainDevData=trainData+devData"
   ]
  },
  {
   "cell_type": "code",
   "execution_count": 4,
   "metadata": {},
   "outputs": [],
   "source": [
    "trainDevMentions=[]\n",
    "trainDevCandidates=[]\n",
    "trainDevKbEntity=[]\n",
    "for sample in trainDevData:\n",
    "    mention=sample[\"mention_data\"][\"mention\"]\n",
    "    candidates=\"，\".join(sample[\"mention_data\"][\"candidates\"])\n",
    "    entity=sample[\"mention_data\"][\"kb_id\"]\n",
    "    trainDevMentions.append(mention)\n",
    "    trainDevCandidates.append(candidates)\n",
    "    trainDevKbEntity.append(entity)\n",
    "\n",
    "trainDevInstructiondata={\"mention\":trainDevMentions,\"candidates\":trainDevCandidates,\"entity\":trainDevKbEntity}"
   ]
  },
  {
   "cell_type": "code",
   "execution_count": 5,
   "metadata": {},
   "outputs": [],
   "source": [
    "testMentions=[]\n",
    "testCandidates=[]\n",
    "testKbEntity=[]\n",
    "for sample in testData:\n",
    "    mention=sample[\"mention_data\"][\"mention\"]\n",
    "    candidates=\"，\".join(sample[\"mention_data\"][\"candidates\"])\n",
    "    entity=sample[\"mention_data\"][\"kb_id\"]\n",
    "    testMentions.append(mention)\n",
    "    testCandidates.append(candidates)\n",
    "    testKbEntity.append(entity)\n",
    "\n",
    "testInstructiondata={\"mention\":testMentions,\"candidates\":testCandidates,\"entity\":testKbEntity}"
   ]
  },
  {
   "cell_type": "code",
   "execution_count": 7,
   "metadata": {},
   "outputs": [],
   "source": [
    "import pandas as pd\n",
    "trainDevInstruction=pd.DataFrame.from_dict(trainDevInstructiondata)\n",
    "testInstruction=pd.DataFrame.from_dict(testInstructiondata)\n",
    "outputFile1=\"./data/aier_data/new_instructions/train_dev.xlsx\"\n",
    "outputFile2=\"./data/aier_data/new_instructions/test.xlsx\"\n",
    "trainDevInstruction.to_excel(outputFile1, index=True, engine='openpyxl')\n",
    "testInstruction.to_excel(outputFile2, index=True, engine='openpyxl')"
   ]
  },
  {
   "cell_type": "code",
   "execution_count": 9,
   "metadata": {},
   "outputs": [],
   "source": [
    "trainDevMentionDataFrame=pd.DataFrame(trainDevMentions,columns=[\"mention\"])\n",
    "testMentionDataFrame=pd.DataFrame(testMentions,columns=[\"mention\"])\n",
    "outputFile3=\"./data/aier_data/new_instructions/trainMentions.xlsx\"\n",
    "outputFile4=\"./data/aier_data/new_instructions/testMentions.xlsx\"\n",
    "trainDevMentionDataFrame.to_excel(outputFile3,index=True,engine='openpyxl')\n",
    "testMentionDataFrame.to_excel(outputFile4,index=True,engine='openpyxl')"
   ]
  }
 ],
 "metadata": {
  "kernelspec": {
   "display_name": "pytlearn",
   "language": "python",
   "name": "python3"
  },
  "language_info": {
   "codemirror_mode": {
    "name": "ipython",
    "version": 3
   },
   "file_extension": ".py",
   "mimetype": "text/x-python",
   "name": "python",
   "nbconvert_exporter": "python",
   "pygments_lexer": "ipython3",
   "version": "3.10.12"
  }
 },
 "nbformat": 4,
 "nbformat_minor": 2
}
